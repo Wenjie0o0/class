{
  "cells": [
    {
      "cell_type": "markdown",
      "id": "e923e634",
      "metadata": {
        "id": "e923e634"
      },
      "source": [
        "# 作業1-水果資料集Dataset和Dataloader\n",
        "Github上有一個水果資料集<br>\n",
        "[水果資料集](https://github.com/TommyHuang821/NTUT_Course/blob/main/NTUT_111-1/Code/dataset/Example_fruit.zip)\n"
      ]
    },
    {
      "cell_type": "markdown",
      "id": "f88e8f4f",
      "metadata": {
        "id": "f88e8f4f"
      },
      "source": [
        "## Q1.\t請利用課程教的dataset宣告方式寫出pytorch私有資料庫(class 宣告)的讀取方式。"
      ]
    },
    {
      "cell_type": "code",
      "execution_count": 38,
      "id": "a56771d3",
      "metadata": {
        "colab": {
          "base_uri": "https://localhost:8080/"
        },
        "id": "a56771d3",
        "outputId": "136f298b-27fa-4fed-e6f7-7ae15844e605"
      },
      "outputs": [
        {
          "output_type": "stream",
          "name": "stdout",
          "text": [
            "Drive already mounted at /content/drive; to attempt to forcibly remount, call drive.mount(\"/content/drive\", force_remount=True).\n",
            "/content/drive/MyDrive/dataset/Train/Watermelon/20_100.jpg\n",
            "[2, 2, 2, 2, 2, 2, 2, 2, 2, 2, 2, 2, 2, 2, 2, 2, 2, 2, 2, 2, 2, 2, 2, 2, 2, 2, 2, 2, 2, 2, 2, 2, 2, 2, 2, 2, 2, 2, 2, 2, 2, 2, 2, 2, 2, 2, 2, 2, 2, 2, 2, 1, 1, 1, 1, 1, 1, 1, 1, 1, 1, 1, 1, 1, 1, 1, 1, 1, 1, 1, 1, 1, 1, 1, 1, 1, 1, 1, 1, 1, 1, 1, 1, 1, 1, 1, 1, 1, 1, 1, 0, 0, 0, 0, 0, 0, 0, 0, 0, 0, 0, 0, 0, 0, 0, 0, 0, 0, 0, 0, 0, 0, 0, 0, 0, 0, 0, 0, 0, 0, 0, 0, 0, 0, 0, 0, 0, 0, 0, 0, 0, 0, 0, 0, 0, 0, 0, 0, 0]\n",
            "139\n",
            "139\n",
            "number of total data:139\n",
            "torch.Size([10, 3, 224, 224])\n",
            "torch.Size([10])\n"
          ]
        }
      ],
      "source": [
        "# Q1: code here\n",
        "\n",
        "from google.colab import drive\n",
        "drive.mount('/content/drive')\n",
        "import json\n",
        "classnames = ['Apple','Banana','Watermelon']  \n",
        "import os\n",
        "import numpy as np\n",
        "import torch\n",
        "import numpy as np\n",
        "import PIL.Image as Image\n",
        "import torchvision.transforms.functional as FT\n",
        "from torchvision import transforms\n",
        "\n",
        "imagepaths, labels=[],[]\n",
        "for dirname, _, filenames in os.walk('/content/drive/MyDrive/dataset/Train'):\n",
        "    fruitname = dirname.split(\"//\")[-1]\n",
        "    label = -1\n",
        "    if fruitname=='/content/drive/MyDrive/dataset/Train/Apple':\n",
        "        label = 0\n",
        "    elif fruitname=='/content/drive/MyDrive/dataset/Train/Banana':\n",
        "        label = 1\n",
        "    elif fruitname=='/content/drive/MyDrive/dataset/Train/Watermelon':\n",
        "        label = 2\n",
        "    for filename in filenames:\n",
        "        imagepaths.append(os.path.join(dirname, filename))\n",
        "        labels.append(label)\n",
        "    \n",
        "print(imagepaths[0])\n",
        "print(labels)\n",
        "print(len(imagepaths))\n",
        "print(len(labels))\n",
        "\n",
        "data={}\n",
        "data['imagepaths']=imagepaths\n",
        "data['labels'] = labels\n",
        "with open('/content/drive/MyDrive/dataset/data_fruit.json', 'w', newline='') as jsonfile:\n",
        "    json.dump(data, jsonfile)\n",
        "mytransform=transforms.Compose([\n",
        "        transforms.Resize((224,224)),\n",
        "        transforms.ToTensor(),\n",
        "        ])    \n",
        "class MyDataset(torch.utils.data.Dataset):\n",
        "    '''\n",
        "    Class to load the dataset\n",
        "    '''\n",
        "    def __init__(self,transforms):\n",
        "        \n",
        "        with open('/content/drive/MyDrive/dataset/data_fruit.json') as jsonfile:\n",
        "            data_load = json.load(jsonfile)\n",
        "        self.imList = data_load['imagepaths']\n",
        "        self.labelList = data_load['labels']\n",
        "        self.transforms=transforms\n",
        "        print('number of total data:{}'.format(len(self.imList)))\n",
        "    def __len__(self):\n",
        "        return len(self.imList)\n",
        "\n",
        "    def __getitem__(self, idx):\n",
        "        '''\n",
        "        :param idx: Index of the image file\n",
        "        :return: returns the image and corresponding label file.\n",
        "        '''\n",
        "        image_name = self.imList[idx]\n",
        "        label = self.labelList[idx]\n",
        "        \n",
        "        # read image with PIL module\n",
        "        image = Image.open(image_name, mode='r')\n",
        "        image = image.convert('RGB')\n",
        "    \n",
        "        \n",
        "        # Convert PIL label image to torch.Tensor\n",
        "        image = self.transforms(image)\n",
        "        label = torch.tensor(label)\n",
        "        return image, label\n",
        "\n",
        "if __name__ == \"__main__\":\n",
        "    mydataset = MyDataset(transforms=mytransform)\n",
        "    mydata_loader = torch.utils.data.DataLoader(mydataset, batch_size=10, num_workers=0)\n",
        "    for data in mydata_loader:\n",
        "        \n",
        "        print(data[0].size())\n",
        "        print(data[1].size())\n",
        "#         print(imagepath)\n",
        "        break    "
      ]
    },
    {
      "cell_type": "markdown",
      "id": "dc2fffdf",
      "metadata": {
        "id": "dc2fffdf"
      },
      "source": [
        "## Q2.\t嘗試用pytorch dataloader讀資料，並設定batch = 1, 3, 5, 7。\n"
      ]
    },
    {
      "cell_type": "code",
      "execution_count": 39,
      "id": "e3659054",
      "metadata": {
        "id": "e3659054",
        "colab": {
          "base_uri": "https://localhost:8080/"
        },
        "outputId": "6c00483a-8dbd-4237-9dd6-c7708f531d0e"
      },
      "outputs": [
        {
          "output_type": "stream",
          "name": "stdout",
          "text": [
            "torch.Size([1, 3, 224, 224])\n",
            "torch.Size([1])\n",
            "total iterations: 139\n",
            "total iterations: 47\n",
            "total iterations: 28\n",
            "total iterations: 20\n"
          ]
        }
      ],
      "source": [
        "# Q2: code here\n",
        "\n",
        "mydata_loader = torch.utils.data.DataLoader(mydataset, batch_size=1, num_workers=0)\n",
        "count = 0\n",
        "for data, target in mydata_loader: \n",
        "    count+=1\n",
        "print(data.size())  # batch * channel * h * w\n",
        "print(target.size()) # batch\n",
        "print(\"total iterations: {}\".format(count))\n",
        "\n",
        "mydata_loader = torch.utils.data.DataLoader(mydataset, batch_size=3, num_workers=0)\n",
        "count = 0\n",
        "for data, target in mydata_loader:\n",
        "    count+=1\n",
        "print(\"total iterations: {}\".format(count))\n",
        "\n",
        "mydata_loader = torch.utils.data.DataLoader(mydataset, batch_size=5, num_workers=0)\n",
        "count = 0\n",
        "for data, target in mydata_loader:\n",
        "    count+=1\n",
        "print(\"total iterations: {}\".format(count))\n",
        "\n",
        "mydata_loader = torch.utils.data.DataLoader(mydataset, batch_size=7, num_workers=0)\n",
        "count = 0\n",
        "for data, target in mydata_loader:\n",
        "    count+=1\n",
        "print(\"total iterations: {}\".format(count))\n"
      ]
    },
    {
      "cell_type": "markdown",
      "id": "71e337fc",
      "metadata": {
        "id": "71e337fc"
      },
      "source": [
        "## Q3.\t執行Shuffle=True 和False在batch = 10，並說明兩者的差異。\n"
      ]
    },
    {
      "cell_type": "code",
      "execution_count": 40,
      "id": "81a42f60",
      "metadata": {
        "id": "81a42f60",
        "colab": {
          "base_uri": "https://localhost:8080/"
        },
        "outputId": "69404939-7394-4305-ffe2-b8050e15eeda"
      },
      "outputs": [
        {
          "output_type": "stream",
          "name": "stdout",
          "text": [
            "first epoch\n",
            "tensor([2, 2, 2, 2, 2, 2, 2, 2, 2, 2])\n",
            "tensor([2, 2, 2, 2, 2, 2, 2, 2, 2, 2])\n",
            "tensor([2, 2, 2, 2, 2, 2, 2, 2, 2, 2])\n",
            "tensor([2, 2, 2, 2, 2, 2, 2, 2, 2, 2])\n",
            "tensor([2, 2, 2, 2, 2, 2, 2, 2, 2, 2])\n",
            "tensor([2, 1, 1, 1, 1, 1, 1, 1, 1, 1])\n",
            "tensor([1, 1, 1, 1, 1, 1, 1, 1, 1, 1])\n",
            "tensor([1, 1, 1, 1, 1, 1, 1, 1, 1, 1])\n",
            "tensor([1, 1, 1, 1, 1, 1, 1, 1, 1, 1])\n",
            "tensor([0, 0, 0, 0, 0, 0, 0, 0, 0, 0])\n",
            "tensor([0, 0, 0, 0, 0, 0, 0, 0, 0, 0])\n",
            "tensor([0, 0, 0, 0, 0, 0, 0, 0, 0, 0])\n",
            "Second epoch\n",
            "tensor([2, 2, 2, 2, 2, 2, 2, 2, 2, 2])\n",
            "tensor([2, 2, 2, 2, 2, 2, 2, 2, 2, 2])\n",
            "tensor([2, 2, 2, 2, 2, 2, 2, 2, 2, 2])\n",
            "tensor([2, 2, 2, 2, 2, 2, 2, 2, 2, 2])\n",
            "tensor([2, 2, 2, 2, 2, 2, 2, 2, 2, 2])\n",
            "tensor([2, 1, 1, 1, 1, 1, 1, 1, 1, 1])\n",
            "tensor([1, 1, 1, 1, 1, 1, 1, 1, 1, 1])\n",
            "tensor([1, 1, 1, 1, 1, 1, 1, 1, 1, 1])\n",
            "tensor([1, 1, 1, 1, 1, 1, 1, 1, 1, 1])\n",
            "tensor([0, 0, 0, 0, 0, 0, 0, 0, 0, 0])\n",
            "tensor([0, 0, 0, 0, 0, 0, 0, 0, 0, 0])\n",
            "tensor([0, 0, 0, 0, 0, 0, 0, 0, 0, 0])\n"
          ]
        }
      ],
      "source": [
        "# Q2: code here\n",
        "\n",
        "mydata_loader = torch.utils.data.DataLoader(mydataset, batch_size=10, shuffle=False)\n",
        "print(\"first epoch\")\n",
        "for i, (data, target) in enumerate(mydata_loader):\n",
        "    print(target)\n",
        "    if i>10:\n",
        "        break\n",
        "print(\"Second epoch\")\n",
        "for i, (data, target) in enumerate(mydata_loader):\n",
        "    print(target)\n",
        "    if i>10:\n",
        "        break\n"
      ]
    },
    {
      "cell_type": "markdown",
      "source": [
        "當 Shuffle = False時，\n",
        "見上面結果，可以發現兩個epoch得到的batch資料結果是一樣的。\n"
      ],
      "metadata": {
        "id": "AJBFfmLOMI2d"
      },
      "id": "AJBFfmLOMI2d"
    },
    {
      "cell_type": "code",
      "source": [
        "mydata_loader = torch.utils.data.DataLoader(mydataset, batch_size=10, shuffle=True)\n",
        "print(\"first epoch\")\n",
        "for i, (data, target) in enumerate(mydata_loader):\n",
        "    print(target)\n",
        "    if i>10:\n",
        "        break\n",
        "print(\"Second epoch\")\n",
        "for i, (data, target) in enumerate(mydata_loader):\n",
        "    print(target)\n",
        "    if i>10:\n",
        "        break"
      ],
      "metadata": {
        "colab": {
          "base_uri": "https://localhost:8080/"
        },
        "id": "pHeLrj10MrXJ",
        "outputId": "302371b4-4940-471e-d55c-4aaa0cc0c7b1"
      },
      "id": "pHeLrj10MrXJ",
      "execution_count": 41,
      "outputs": [
        {
          "output_type": "stream",
          "name": "stdout",
          "text": [
            "first epoch\n",
            "tensor([2, 0, 2, 0, 2, 1, 2, 2, 1, 0])\n",
            "tensor([1, 1, 1, 2, 0, 0, 1, 2, 2, 1])\n",
            "tensor([2, 0, 0, 0, 1, 1, 0, 2, 0, 0])\n",
            "tensor([2, 2, 1, 2, 1, 2, 1, 0, 2, 0])\n",
            "tensor([0, 1, 1, 0, 0, 0, 0, 2, 0, 1])\n",
            "tensor([1, 0, 0, 0, 2, 0, 1, 2, 0, 0])\n",
            "tensor([0, 2, 2, 2, 1, 2, 2, 2, 2, 0])\n",
            "tensor([1, 2, 0, 1, 0, 2, 2, 0, 0, 2])\n",
            "tensor([0, 2, 1, 1, 1, 2, 2, 0, 1, 1])\n",
            "tensor([1, 2, 2, 2, 2, 1, 1, 1, 0, 2])\n",
            "tensor([2, 2, 0, 0, 1, 2, 2, 0, 1, 2])\n",
            "tensor([0, 0, 2, 0, 1, 0, 0, 0, 2, 2])\n",
            "Second epoch\n",
            "tensor([0, 0, 1, 0, 2, 2, 2, 0, 2, 0])\n",
            "tensor([1, 1, 2, 1, 1, 1, 2, 0, 0, 0])\n",
            "tensor([1, 1, 0, 2, 0, 2, 0, 0, 1, 0])\n",
            "tensor([0, 1, 0, 2, 2, 2, 0, 2, 0, 0])\n",
            "tensor([1, 1, 2, 2, 0, 0, 2, 0, 1, 1])\n",
            "tensor([2, 2, 2, 0, 0, 0, 0, 1, 0, 2])\n",
            "tensor([1, 0, 2, 1, 2, 2, 0, 2, 2, 0])\n",
            "tensor([2, 0, 1, 2, 2, 0, 1, 0, 2, 1])\n",
            "tensor([2, 1, 2, 1, 0, 0, 2, 2, 2, 2])\n",
            "tensor([1, 2, 1, 1, 2, 2, 2, 2, 0, 2])\n",
            "tensor([0, 2, 1, 0, 1, 1, 0, 1, 2, 0])\n",
            "tensor([1, 0, 1, 0, 2, 2, 1, 2, 2, 0])\n"
          ]
        }
      ]
    },
    {
      "cell_type": "markdown",
      "source": [
        "當 Shuffle = True，\n",
        "見上面結果，可以發現兩個epoch第一次得到的資料結果是不一樣的。\n",
        "要避免每一個epoch都學習一樣的順序和一樣的batch時候Shuffle就需要設定為True \n",
        "這樣資料在每個epoch的時候，每個batch的組合都會重新打亂，這樣訓練模型過程中可以避免每個epoch都是在學習固定的。"
      ],
      "metadata": {
        "id": "nRMNA10gMxHv"
      },
      "id": "nRMNA10gMxHv"
    }
  ],
  "metadata": {
    "kernelspec": {
      "display_name": "Python 3 (ipykernel)",
      "language": "python",
      "name": "python3"
    },
    "language_info": {
      "codemirror_mode": {
        "name": "ipython",
        "version": 3
      },
      "file_extension": ".py",
      "mimetype": "text/x-python",
      "name": "python",
      "nbconvert_exporter": "python",
      "pygments_lexer": "ipython3",
      "version": "3.7.9"
    },
    "colab": {
      "provenance": []
    }
  },
  "nbformat": 4,
  "nbformat_minor": 5
}